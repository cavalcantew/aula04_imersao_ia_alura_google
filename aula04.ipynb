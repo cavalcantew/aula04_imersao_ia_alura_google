{
  "nbformat": 4,
  "nbformat_minor": 0,
  "metadata": {
    "colab": {
      "provenance": [],
      "authorship_tag": "ABX9TyPv9wQbxyiuEoqhvQ5F/ihF",
      "include_colab_link": true
    },
    "kernelspec": {
      "name": "python3",
      "display_name": "Python 3"
    },
    "language_info": {
      "name": "python"
    }
  },
  "cells": [
    {
      "cell_type": "markdown",
      "metadata": {
        "id": "view-in-github",
        "colab_type": "text"
      },
      "source": [
        "<a href=\"https://colab.research.google.com/github/cavalcantew/aula04_imersao_ia_alura_google/blob/main/aula04.ipynb\" target=\"_parent\"><img src=\"https://colab.research.google.com/assets/colab-badge.svg\" alt=\"Open In Colab\"/></a>"
      ]
    },
    {
      "cell_type": "markdown",
      "source": [],
      "metadata": {
        "id": "iIM1Yll8OROm"
      }
    },
    {
      "cell_type": "code",
      "source": [
        "import google.generativeai as genai\n",
        "from google.colab import userdata\n",
        "\n",
        "api_key = userdata.get('SECRET_KEY')\n",
        "genai.configure(api_key=api_key)"
      ],
      "metadata": {
        "id": "Ja2rGqHUOcKZ"
      },
      "execution_count": 1,
      "outputs": []
    },
    {
      "cell_type": "markdown",
      "source": [
        "Listar os modelos disponíveis"
      ],
      "metadata": {
        "id": "GegA3iCmO3hb"
      }
    },
    {
      "cell_type": "code",
      "source": [
        "for m in genai.list_models():\n",
        "  if 'generateContent' in m.supported_generation_methods:\n",
        "    print(m.name)"
      ],
      "metadata": {
        "colab": {
          "base_uri": "https://localhost:8080/",
          "height": 139
        },
        "id": "BsIUd18yOxMM",
        "outputId": "8b50d848-917d-4ebd-b01e-7a20599669af"
      },
      "execution_count": 2,
      "outputs": [
        {
          "output_type": "stream",
          "name": "stdout",
          "text": [
            "models/gemini-1.0-pro\n",
            "models/gemini-1.0-pro-001\n",
            "models/gemini-1.0-pro-latest\n",
            "models/gemini-1.0-pro-vision-latest\n",
            "models/gemini-1.5-pro-latest\n",
            "models/gemini-pro\n",
            "models/gemini-pro-vision\n"
          ]
        }
      ]
    },
    {
      "cell_type": "code",
      "source": [
        "generation_config = {\n",
        "    \"candidate_count\": 1,\n",
        "    \"temperature\": 0.5,\n",
        "}"
      ],
      "metadata": {
        "id": "lmYzK74jQIqx"
      },
      "execution_count": 3,
      "outputs": []
    },
    {
      "cell_type": "code",
      "source": [
        "safety_settings = {\n",
        "    \"HARASSMENT\": \"BLOCK_NONE\",\n",
        "    \"HATE\": \"BLOCK_NONE\",\n",
        "    \"SEXUAL\": \"BLOCK_NONE\",\n",
        "    \"DANGEROUS\": \"BLOCK_NONE\"\n",
        "}"
      ],
      "metadata": {
        "id": "vl7DYvlCQnWF"
      },
      "execution_count": 4,
      "outputs": []
    },
    {
      "cell_type": "code",
      "source": [
        "model = genai.GenerativeModel(model_name =\"gemini-1.0-pro\",\n",
        "                              generation_config=generation_config,\n",
        "                              safety_settings=safety_settings)"
      ],
      "metadata": {
        "id": "oA2T68w6RVf2"
      },
      "execution_count": 5,
      "outputs": []
    },
    {
      "cell_type": "code",
      "source": [
        "\n",
        "response = model.generate_content(\"Qual a maior torcida de futebol do brasil\")\n",
        "print(response.text)"
      ],
      "metadata": {
        "colab": {
          "base_uri": "https://localhost:8080/",
          "height": 34
        },
        "id": "kV5B02J3R-FS",
        "outputId": "0f9d93fb-da9d-4e0c-90bd-33afa070ec8c"
      },
      "execution_count": 6,
      "outputs": [
        {
          "output_type": "stream",
          "name": "stdout",
          "text": [
            "Flamengo\n"
          ]
        }
      ]
    },
    {
      "cell_type": "code",
      "source": [
        "chat = model.start_chat(history=[])"
      ],
      "metadata": {
        "id": "y6Gu9t-nSiBV"
      },
      "execution_count": 7,
      "outputs": []
    },
    {
      "cell_type": "code",
      "source": [
        "prompt = input(\"Esperando prompt: \")\n",
        "\n",
        "while prompt != \"fim\":\n",
        "  response = chat.send_message(prompt)\n",
        "  print(\"Resposta: \", response.text, \"\\n\")\n",
        "  prompt = input(\"Esperando prompt: \")"
      ],
      "metadata": {
        "colab": {
          "base_uri": "https://localhost:8080/",
          "height": 870
        },
        "id": "xG2PmSVYS1tX",
        "outputId": "e5de9a2b-9f19-4341-c981-bc311110854d"
      },
      "execution_count": 8,
      "outputs": [
        {
          "name": "stdout",
          "output_type": "stream",
          "text": [
            "Esperando prompt: o que é AI e metodos de aplicacao no agro negocio\n",
            "Resposta:  **Inteligência Artificial (IA)**\n",
            "\n",
            "A Inteligência Artificial (IA) é um campo da ciência da computação que se concentra no desenvolvimento de sistemas que podem realizar tarefas normalmente associadas à inteligência humana, como aprendizado, resolução de problemas e tomada de decisões.\n",
            "\n",
            "**Métodos de Aplicação da IA no Agronegócio**\n",
            "\n",
            "A IA está transformando o agronegócio ao fornecer ferramentas e técnicas para melhorar a eficiência, aumentar a produtividade e reduzir os custos. Aqui estão alguns métodos de aplicação da IA no setor:\n",
            "\n",
            "**1. Agricultura de Precisão:**\n",
            "\n",
            "* Sensores e drones coletam dados em tempo real sobre condições do solo, saúde das culturas e pragas.\n",
            "* Algoritmos de IA analisam esses dados para criar mapas de campo precisos.\n",
            "* Os agricultores podem usar esses mapas para aplicar fertilizantes e pesticidas de forma otimizada, reduzindo o desperdício e aumentando os rendimentos.\n",
            "\n",
            "**2. Monitoramento de Culturas:**\n",
            "\n",
            "* Imagens de satélite e drones são usadas para monitorar o crescimento das culturas e detectar doenças precocemente.\n",
            "* Algoritmos de IA analisam essas imagens para identificar padrões e prever problemas potenciais.\n",
            "* Os agricultores podem tomar medidas preventivas para proteger suas colheitas e minimizar perdas.\n",
            "\n",
            "**3. Gerenciamento de Gado:**\n",
            "\n",
            "* Dispositivos vestíveis e sensores monitoram a saúde, o comportamento e a localização do gado.\n",
            "* Algoritmos de IA analisam esses dados para identificar animais doentes ou estressados.\n",
            "* Os agricultores podem responder rapidamente a problemas de saúde e melhorar o bem-estar animal.\n",
            "\n",
            "**4. Automação de Tarefas:**\n",
            "\n",
            "* Robôs e veículos autônomos são usados para automatizar tarefas como colheita, poda e pulverização.\n",
            "* Isso libera os agricultores para se concentrarem em tarefas mais estratégicas e melhora a eficiência operacional.\n",
            "\n",
            "**5. Previsão de Mercado:**\n",
            "\n",
            "* Algoritmos de IA analisam dados históricos e em tempo real para prever tendências de mercado e preços de commodities.\n",
            "* Os agricultores podem usar essas informações para tomar decisões informadas sobre o plantio, a colheita e a venda de suas safras.\n",
            "\n",
            "**6. Análise de Dados:**\n",
            "\n",
            "* A IA permite que os agricultores coletem e analisem grandes quantidades de dados de diversas fontes.\n",
            "* Essa análise fornece insights valiosos sobre práticas agrícolas, tendências de mercado e oportunidades de melhoria.\n",
            "\n",
            "**7. Pesquisa e Desenvolvimento:**\n",
            "\n",
            "* A IA está sendo usada para acelerar a pesquisa e o desenvolvimento de novas variedades de culturas, técnicas agrícolas e soluções para desafios do setor.\n",
            "* Isso leva a inovações que podem melhorar a produtividade e a sustentabilidade do agronegócio. \n",
            "\n",
            "Esperando prompt: fim\n"
          ]
        }
      ]
    },
    {
      "cell_type": "code",
      "source": [
        "#Melhorando a visualização\n",
        "#Código disponível em https://ai.google.dev/tutorials/python_quickstart#import_packages\n",
        "import textwrap\n",
        "from IPython.display import display\n",
        "from IPython.display import Markdown\n",
        "\n",
        "def to_markdown(text):\n",
        "  text = text.replace('•', '  *')\n",
        "  return Markdown(textwrap.indent(text, '> ', predicate=lambda _: True))\n",
        "\n",
        "#Imprimindo o histórico\n",
        "for message in chat.history:\n",
        "  display(to_markdown(f'**{message.role}**: {message.parts[0].text}'))\n",
        "  print('-------------------------------------------')"
      ],
      "metadata": {
        "colab": {
          "base_uri": "https://localhost:8080/",
          "height": 783
        },
        "id": "vvj4Lfj5Uyph",
        "outputId": "5cc2322a-ef08-4fbc-ddaa-8b07f871157e"
      },
      "execution_count": 9,
      "outputs": [
        {
          "output_type": "display_data",
          "data": {
            "text/plain": [
              "<IPython.core.display.Markdown object>"
            ],
            "text/markdown": "> **user**: o que é AI e metodos de aplicacao no agro negocio"
          },
          "metadata": {}
        },
        {
          "output_type": "stream",
          "name": "stdout",
          "text": [
            "-------------------------------------------\n"
          ]
        },
        {
          "output_type": "display_data",
          "data": {
            "text/plain": [
              "<IPython.core.display.Markdown object>"
            ],
            "text/markdown": "> **model**: **Inteligência Artificial (IA)**\n> \n> A Inteligência Artificial (IA) é um campo da ciência da computação que se concentra no desenvolvimento de sistemas que podem realizar tarefas normalmente associadas à inteligência humana, como aprendizado, resolução de problemas e tomada de decisões.\n> \n> **Métodos de Aplicação da IA no Agronegócio**\n> \n> A IA está transformando o agronegócio ao fornecer ferramentas e técnicas para melhorar a eficiência, aumentar a produtividade e reduzir os custos. Aqui estão alguns métodos de aplicação da IA no setor:\n> \n> **1. Agricultura de Precisão:**\n> \n> * Sensores e drones coletam dados em tempo real sobre condições do solo, saúde das culturas e pragas.\n> * Algoritmos de IA analisam esses dados para criar mapas de campo precisos.\n> * Os agricultores podem usar esses mapas para aplicar fertilizantes e pesticidas de forma otimizada, reduzindo o desperdício e aumentando os rendimentos.\n> \n> **2. Monitoramento de Culturas:**\n> \n> * Imagens de satélite e drones são usadas para monitorar o crescimento das culturas e detectar doenças precocemente.\n> * Algoritmos de IA analisam essas imagens para identificar padrões e prever problemas potenciais.\n> * Os agricultores podem tomar medidas preventivas para proteger suas colheitas e minimizar perdas.\n> \n> **3. Gerenciamento de Gado:**\n> \n> * Dispositivos vestíveis e sensores monitoram a saúde, o comportamento e a localização do gado.\n> * Algoritmos de IA analisam esses dados para identificar animais doentes ou estressados.\n> * Os agricultores podem responder rapidamente a problemas de saúde e melhorar o bem-estar animal.\n> \n> **4. Automação de Tarefas:**\n> \n> * Robôs e veículos autônomos são usados para automatizar tarefas como colheita, poda e pulverização.\n> * Isso libera os agricultores para se concentrarem em tarefas mais estratégicas e melhora a eficiência operacional.\n> \n> **5. Previsão de Mercado:**\n> \n> * Algoritmos de IA analisam dados históricos e em tempo real para prever tendências de mercado e preços de commodities.\n> * Os agricultores podem usar essas informações para tomar decisões informadas sobre o plantio, a colheita e a venda de suas safras.\n> \n> **6. Análise de Dados:**\n> \n> * A IA permite que os agricultores coletem e analisem grandes quantidades de dados de diversas fontes.\n> * Essa análise fornece insights valiosos sobre práticas agrícolas, tendências de mercado e oportunidades de melhoria.\n> \n> **7. Pesquisa e Desenvolvimento:**\n> \n> * A IA está sendo usada para acelerar a pesquisa e o desenvolvimento de novas variedades de culturas, técnicas agrícolas e soluções para desafios do setor.\n> * Isso leva a inovações que podem melhorar a produtividade e a sustentabilidade do agronegócio."
          },
          "metadata": {}
        },
        {
          "output_type": "stream",
          "name": "stdout",
          "text": [
            "-------------------------------------------\n"
          ]
        }
      ]
    }
  ]
}